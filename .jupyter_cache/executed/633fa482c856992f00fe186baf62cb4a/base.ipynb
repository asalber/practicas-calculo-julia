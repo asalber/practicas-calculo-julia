{
 "cells": [
  {
   "cell_type": "code",
   "execution_count": 1,
   "id": "3d2c1b81",
   "metadata": {},
   "outputs": [],
   "source": [
    "import IJulia\n",
    "\n",
    "# The julia kernel has built in support for Revise.jl, so this is the \n",
    "# recommended approach for long-running sessions:\n",
    "# https://github.com/JuliaLang/IJulia.jl/blob/9b10fa9b879574bbf720f5285029e07758e50a5e/src/kernel.jl#L46-L51\n",
    "\n",
    "# Users should enable revise within .julia/config/startup_ijulia.jl:\n",
    "# https://timholy.github.io/Revise.jl/stable/config/#Using-Revise-automatically-within-Jupyter/IJulia-1\n",
    "\n",
    "# clear console history\n",
    "IJulia.clear_history()\n",
    "\n",
    "fig_width = 5\n",
    "fig_height = 4\n",
    "fig_format = :png\n",
    "fig_dpi = 96\n",
    "\n",
    "# no retina format type, use svg for high quality type/marks\n",
    "if fig_format == :retina\n",
    "  fig_format = :svg\n",
    "elseif fig_format == :pdf\n",
    "  fig_dpi = 96\n",
    "  # Enable PDF support for IJulia\n",
    "  IJulia.register_mime(MIME(\"application/pdf\"))\n",
    "end\n",
    "\n",
    "# convert inches to pixels\n",
    "fig_width = fig_width * fig_dpi\n",
    "fig_height = fig_height * fig_dpi\n",
    "\n",
    "# Intialize Plots w/ default fig width/height\n",
    "try\n",
    "  import Plots\n",
    "\n",
    "  # Plots.jl doesn't support PDF output for versions < 1.28.1\n",
    "  # so use png (if the DPI remains the default of 300 then set to 96)\n",
    "  if (Plots._current_plots_version < v\"1.28.1\") & (fig_format == :pdf)\n",
    "    Plots.gr(size=(fig_width, fig_height), fmt = :png, dpi = fig_dpi)\n",
    "  else\n",
    "    Plots.gr(size=(fig_width, fig_height), fmt = fig_format, dpi = fig_dpi)\n",
    "  end\n",
    "catch e\n",
    "  # @warn \"Plots init\" exception=(e, catch_backtrace())\n",
    "end\n",
    "\n",
    "# Initialize CairoMakie with default fig width/height\n",
    "try\n",
    "  import CairoMakie\n",
    "\n",
    "  # CairoMakie's display() in PDF format opens an interactive window\n",
    "  # instead of saving to the ipynb file, so we don't do that.\n",
    "  # https://github.com/quarto-dev/quarto-cli/issues/7548\n",
    "  if fig_format == :pdf\n",
    "    CairoMakie.activate!(type = \"png\")\n",
    "  else\n",
    "    CairoMakie.activate!(type = string(fig_format))\n",
    "  end\n",
    "  CairoMakie.update_theme!(resolution=(fig_width, fig_height))\n",
    "catch e\n",
    "    # @warn \"CairoMakie init\" exception=(e, catch_backtrace())\n",
    "end\n",
    "  \n",
    "# Set run_path if specified\n",
    "try\n",
    "  run_path = raw\"/run/media/alf/datos/misrepositorios/docencia/analisis-practicas-julia\"\n",
    "  if !isempty(run_path)\n",
    "    cd(run_path)\n",
    "  end\n",
    "catch e\n",
    "  @warn \"Run path init:\" exception=(e, catch_backtrace())\n",
    "end\n",
    "\n",
    "\n",
    "# emulate old Pkg.installed beahvior, see\n",
    "# https://discourse.julialang.org/t/how-to-use-pkg-dependencies-instead-of-pkg-installed/36416/9\n",
    "import Pkg\n",
    "function isinstalled(pkg::String)\n",
    "  any(x -> x.name == pkg && x.is_direct_dep, values(Pkg.dependencies()))\n",
    "end\n",
    "\n",
    "# ojs_define\n",
    "if isinstalled(\"JSON\") && isinstalled(\"DataFrames\")\n",
    "  import JSON, DataFrames\n",
    "  global function ojs_define(; kwargs...)\n",
    "    convert(x) = x\n",
    "    convert(x::DataFrames.AbstractDataFrame) = Tables.rows(x)\n",
    "    content = Dict(\"contents\" => [Dict(\"name\" => k, \"value\" => convert(v)) for (k, v) in kwargs])\n",
    "    tag = \"<script type='ojs-define'>$(JSON.json(content))</script>\"\n",
    "    IJulia.display(MIME(\"text/html\"), tag)\n",
    "  end\n",
    "elseif isinstalled(\"JSON\")\n",
    "  import JSON\n",
    "  global function ojs_define(; kwargs...)\n",
    "    content = Dict(\"contents\" => [Dict(\"name\" => k, \"value\" => v) for (k, v) in kwargs])\n",
    "    tag = \"<script type='ojs-define'>$(JSON.json(content))</script>\"\n",
    "    IJulia.display(MIME(\"text/html\"), tag)\n",
    "  end\n",
    "else\n",
    "  global function ojs_define(; kwargs...)\n",
    "    @warn \"JSON package not available. Please install the JSON.jl package to use ojs_define.\"\n",
    "  end\n",
    "end\n",
    "\n",
    "\n",
    "# don't return kernel dependencies (b/c Revise should take care of dependencies)\n",
    "nothing\n"
   ]
  },
  {
   "cell_type": "code",
   "execution_count": 2,
   "id": "0e455663",
   "metadata": {},
   "outputs": [],
   "source": [
    "#| output: false\n",
    "using SymPy  # Para el cálculo simbólico.\n",
    "using HCubature # Para el cálculo numérico de integrales múltiples."
   ]
  },
  {
   "cell_type": "code",
   "execution_count": 3,
   "id": "02263e0a",
   "metadata": {
    "md-indent": "    "
   },
   "outputs": [
    {
     "data": {
      "text/plain": [
       "(50.0, 7.105427357601002e-15)"
      ]
     },
     "execution_count": 3,
     "metadata": {},
     "output_type": "execute_result"
    }
   ],
   "source": [
    "using HCubature\n",
    "f(x, y) = 10\n",
    "f(v) = f(v...)\n",
    "hcubature(f, [0,0], [1,5])"
   ]
  },
  {
   "cell_type": "code",
   "execution_count": 4,
   "id": "8eb558e3",
   "metadata": {
    "md-indent": "    "
   },
   "outputs": [
    {
     "data": {
      "text/plain": [
       "(25.0, 3.552713678800501e-15)"
      ]
     },
     "execution_count": 4,
     "metadata": {},
     "output_type": "execute_result"
    }
   ],
   "source": [
    "f(x, y) = 10x\n",
    "f(v) = f(v...)\n",
    "hcubature(f, [0,0], [1,5])"
   ]
  },
  {
   "cell_type": "code",
   "execution_count": 5,
   "id": "c0e397bc",
   "metadata": {
    "md-indent": "    "
   },
   "outputs": [
    {
     "data": {
      "text/plain": [
       "(31.41598951201623, 4.6813472010342655e-7)"
      ]
     },
     "execution_count": 5,
     "metadata": {},
     "output_type": "execute_result"
    }
   ],
   "source": [
    "f(x, y) = x^2+y^2<1 ? 10 : 0\n",
    "f(v) = f(v...)\n",
    "hcubature(f, [-1,-1], [1,1])"
   ]
  },
  {
   "cell_type": "code",
   "execution_count": 6,
   "id": "c496dbb6",
   "metadata": {
    "md-indent": "    "
   },
   "outputs": [
    {
     "data": {
      "text/plain": [
       "(2.0943951101375893, 3.12087277156216e-8)"
      ]
     },
     "execution_count": 6,
     "metadata": {},
     "output_type": "execute_result"
    }
   ],
   "source": [
    "f(x, y) = x^2+y^2<1 ? sqrt(1-x^2-y^2) : 0\n",
    "f(v) = f(v...)\n",
    "hcubature(f, [-1,-1], [1,1])"
   ]
  },
  {
   "cell_type": "code",
   "execution_count": 7,
   "id": "dfac5816",
   "metadata": {
    "md-indent": "    "
   },
   "outputs": [
    {
     "data": {
      "text/latex": [
       "$3$"
      ],
      "text/plain": [
       "3"
      ]
     },
     "execution_count": 7,
     "metadata": {},
     "output_type": "execute_result"
    }
   ],
   "source": [
    "using SymPy\n",
    "@syms x y\n",
    "f(x, y) = x + y\n",
    "integrate(f(x,y), (y, 0, 2), (x, 0, 1))"
   ]
  },
  {
   "cell_type": "code",
   "execution_count": 8,
   "id": "47f74b90",
   "metadata": {
    "md-indent": "    "
   },
   "outputs": [
    {
     "data": {
      "text/latex": [
       "$3$"
      ],
      "text/plain": [
       "3"
      ]
     },
     "execution_count": 8,
     "metadata": {},
     "output_type": "execute_result"
    }
   ],
   "source": [
    "integrate(f(x,y), (x, 0, 1), (y, 0, 2))"
   ]
  },
  {
   "cell_type": "code",
   "execution_count": 9,
   "id": "8f6960be",
   "metadata": {
    "md-indent": "    "
   },
   "outputs": [
    {
     "data": {
      "text/latex": [
       "$\\frac{9}{2}$"
      ],
      "text/plain": [
       "9/2"
      ]
     },
     "execution_count": 9,
     "metadata": {},
     "output_type": "execute_result"
    }
   ],
   "source": [
    "@syms z\n",
    "f(x, y, z) = x * y * z\n",
    "integrate(f(x,y,z), (z, 0, 3), (y, 0, 2), (x, 0, 1))"
   ]
  },
  {
   "cell_type": "code",
   "execution_count": 10,
   "id": "ab230fe7",
   "metadata": {
    "md-indent": "    "
   },
   "outputs": [
    {
     "data": {
      "text/latex": [
       "$\\frac{9}{2}$"
      ],
      "text/plain": [
       "9/2"
      ]
     },
     "execution_count": 10,
     "metadata": {},
     "output_type": "execute_result"
    }
   ],
   "source": [
    "@syms z\n",
    "f(x, y, z) = x * y * z\n",
    "integrate(f(x,y,z), (y, 0, 2), (x, 0, 1), (z, 0, 3))"
   ]
  },
  {
   "cell_type": "code",
   "execution_count": 11,
   "id": "89cca68d",
   "metadata": {
    "md-indent": "    "
   },
   "outputs": [
    {
     "data": {
      "text/latex": [
       "$- e^{2} + \\frac{1}{3} + \\frac{2 e^{3}}{3}$"
      ],
      "text/plain": [
       "              3\n",
       "   2   1   2⋅ℯ \n",
       "- ℯ  + ─ + ────\n",
       "       3    3  "
      ]
     },
     "execution_count": 11,
     "metadata": {},
     "output_type": "execute_result"
    }
   ],
   "source": [
    "using SymPy\n",
    "@syms x y\n",
    "f(x, y) = exp(x+y)\n",
    "integrate(f(x,y), (y, 0, x/2), (x, 0, 2))"
   ]
  },
  {
   "cell_type": "code",
   "execution_count": 12,
   "id": "014e7a04",
   "metadata": {
    "md-indent": "    "
   },
   "outputs": [
    {
     "data": {
      "text/latex": [
       "$- e^{2} + \\frac{1}{3} + \\frac{2 e^{3}}{3}$"
      ],
      "text/plain": [
       "              3\n",
       "   2   1   2⋅ℯ \n",
       "- ℯ  + ─ + ────\n",
       "       3    3  "
      ]
     },
     "execution_count": 12,
     "metadata": {},
     "output_type": "execute_result"
    }
   ],
   "source": [
    "integrate(f(x,y), (x, 2y, 2), (y, 0, 1))"
   ]
  },
  {
   "cell_type": "code",
   "execution_count": 13,
   "id": "ad54c99b",
   "metadata": {
    "md-indent": "    "
   },
   "outputs": [
    {
     "data": {
      "text/latex": [
       "$\\frac{1}{40}$"
      ],
      "text/plain": [
       "1/40"
      ]
     },
     "execution_count": 13,
     "metadata": {},
     "output_type": "execute_result"
    }
   ],
   "source": [
    "f(x, y) = x^2*y\n",
    "integrate(f(x,y), (y, x, sqrt(x)), (x, 0, 1))"
   ]
  },
  {
   "cell_type": "code",
   "execution_count": 14,
   "id": "b878878e",
   "metadata": {
    "md-indent": "    "
   },
   "outputs": [
    {
     "data": {
      "text/latex": [
       "$\\frac{1}{40}$"
      ],
      "text/plain": [
       "1/40"
      ]
     },
     "execution_count": 14,
     "metadata": {},
     "output_type": "execute_result"
    }
   ],
   "source": [
    "integrate(f(x,y), (x, y^2, y), (y, 0, 1))"
   ]
  },
  {
   "cell_type": "code",
   "execution_count": 15,
   "id": "aaf50536",
   "metadata": {
    "md-indent": "    "
   },
   "outputs": [
    {
     "data": {
      "text/latex": [
       "$- \\frac{\\sqrt{2} \\sqrt{\\pi} \\left(- \\frac{\\sqrt{2} \\sin{\\left(1 \\right)} \\Gamma\\left(\\frac{1}{4}\\right)}{8 \\sqrt{\\pi} \\Gamma\\left(\\frac{5}{4}\\right)} + \\frac{C\\left(\\frac{\\sqrt{2}}{\\sqrt{\\pi}}\\right) \\Gamma\\left(\\frac{1}{4}\\right)}{4 \\Gamma\\left(\\frac{5}{4}\\right)}\\right) \\Gamma\\left(\\frac{1}{4}\\right)}{8 \\Gamma\\left(\\frac{5}{4}\\right)} + \\frac{\\sqrt{2} \\sqrt{\\pi} C\\left(\\frac{\\sqrt{2}}{\\sqrt{\\pi}}\\right) \\Gamma\\left(\\frac{1}{4}\\right)}{8 \\Gamma\\left(\\frac{5}{4}\\right)}$"
      ],
      "text/plain": [
       "        ⎛                      ⎛√2⎞       ⎞                            \n",
       "        ⎜                     C⎜──⎟⋅Γ(1/4)⎟                            \n",
       "        ⎜  √2⋅sin(1)⋅Γ(1/4)    ⎝√π⎠       ⎟                 ⎛√2⎞       \n",
       "  √2⋅√π⋅⎜- ──────────────── + ────────────⎟⋅Γ(1/4)   √2⋅√π⋅C⎜──⎟⋅Γ(1/4)\n",
       "        ⎝    8⋅√π⋅Γ(5/4)        4⋅Γ(5/4)  ⎠                 ⎝√π⎠       \n",
       "- ──────────────────────────────────────────────── + ──────────────────\n",
       "                      8⋅Γ(5/4)                            8⋅Γ(5/4)     "
      ]
     },
     "execution_count": 15,
     "metadata": {},
     "output_type": "execute_result"
    }
   ],
   "source": [
    "f(x, y) = cos(x^2)\n",
    "integrate(f(x,y), (x, y, 1), (y, 0, 1))"
   ]
  },
  {
   "cell_type": "code",
   "execution_count": 16,
   "id": "b293ffe9",
   "metadata": {
    "md-indent": "    "
   },
   "outputs": [
    {
     "data": {
      "text/latex": [
       "$\\frac{\\sin{\\left(1 \\right)}}{2}$"
      ],
      "text/plain": [
       "sin(1)\n",
       "──────\n",
       "  2   "
      ]
     },
     "execution_count": 16,
     "metadata": {},
     "output_type": "execute_result"
    }
   ],
   "source": [
    "integrate(f(x,y), (y, 0, x), (x, 0, 1))"
   ]
  },
  {
   "cell_type": "code",
   "execution_count": 17,
   "id": "aef93027",
   "metadata": {
    "md-indent": "    "
   },
   "outputs": [
    {
     "data": {
      "text/latex": [
       "$6$"
      ],
      "text/plain": [
       "6"
      ]
     },
     "execution_count": 17,
     "metadata": {},
     "output_type": "execute_result"
    }
   ],
   "source": [
    "using SymPy\n",
    "@syms x y z\n",
    "# Despejamos z y la expresamos en función de x e y.\n",
    "f(x, y) = solve(x+2y+3z-6, z)[1]\n",
    "# Obtenemos los límites de integración en y.\n",
    "g(x) = solve(f(x,y), y)[1]\n",
    "# Obtenemos los límites de integración en x.\n",
    "b = solve(g(x))[1]\n",
    "# Calculamos la integral doble.\n",
    "integrate(f(x,y), (y, 0, g(x)), (x, 0, b))"
   ]
  },
  {
   "cell_type": "code",
   "execution_count": 18,
   "id": "ce83c54e",
   "metadata": {
    "md-indent": "    "
   },
   "outputs": [
    {
     "data": {
      "text/latex": [
       "$1$"
      ],
      "text/plain": [
       "1"
      ]
     },
     "execution_count": 18,
     "metadata": {},
     "output_type": "execute_result"
    }
   ],
   "source": [
    "f(x, y) = x*y  \n",
    "integrate(f(x,y), (y, -1, 0), (x, -1, 0)) + integrate(-f(x,y), (y, -1, 0), (x, 0, 1)) + integrate(-f(x,y), (y, 0, 1), (x, -1, 0)) + integrate(f(x,y), (y, 0, 1), (x, 0, 1))"
   ]
  },
  {
   "cell_type": "code",
   "execution_count": 19,
   "id": "af35ebdc",
   "metadata": {
    "md-indent": "    "
   },
   "outputs": [
    {
     "data": {
      "text/plain": [
       "(1.0, 0.0)"
      ]
     },
     "execution_count": 19,
     "metadata": {},
     "output_type": "execute_result"
    }
   ],
   "source": [
    "using HCubature\n",
    "f(x, y) = abs(x*y)\n",
    "f(v) = f(v...)\n",
    "hcubature(f, [-1,-1], [1,1])"
   ]
  },
  {
   "cell_type": "code",
   "execution_count": 20,
   "id": "a8e62bb7",
   "metadata": {},
   "outputs": [
    {
     "data": {
      "text/latex": [
       "$- \\frac{1197 \\sqrt{2} \\pi}{32}$"
      ],
      "text/plain": [
       "-1197⋅√2⋅π \n",
       "───────────\n",
       "     32    "
      ]
     },
     "execution_count": 20,
     "metadata": {},
     "output_type": "execute_result"
    }
   ],
   "source": [
    "using SymPy\n",
    "@syms x y\n",
    "# Función de la superficie\n",
    "f(x, y) = x^2/2 + y^2/2 - 10 \n",
    "# Función de la región de integración\n",
    "g(x, y) = 2x^2 + y^2 - 9\n",
    "# Límites de integración en y\n",
    "soly = solve(g(x, y), y)\n",
    "# Límites de integración en x\n",
    "solx = solve(g(x, 0))\n",
    "integrate(f(x, y), (y, soly[1], soly[2]), (x, solx[1], solx[2]))"
   ]
  },
  {
   "cell_type": "code",
   "execution_count": 21,
   "id": "763e091b",
   "metadata": {},
   "outputs": [
    {
     "data": {
      "text/latex": [
       "$\\frac{\\pi}{2}$"
      ],
      "text/plain": [
       "π\n",
       "─\n",
       "2"
      ]
     },
     "execution_count": 21,
     "metadata": {},
     "output_type": "execute_result"
    }
   ],
   "source": [
    "using SymPy\n",
    "@syms x y\n",
    "f(x, y) = x^2 + y^2\n",
    "g(x, y) = 2x\n",
    "# Límites de integración en y\n",
    "soly = solve(f(x,y)-g(x,y), y)\n",
    "# Límites de integración en x\n",
    "solx = solve(soly[1])\n",
    "# Calculamos el volumen\n",
    "integrate(g(x,y)-f(x,y), (y, soly[2], soly[1]), (x, solx[1], solx[2]))"
   ]
  },
  {
   "cell_type": "code",
   "execution_count": 22,
   "id": "c803a22b",
   "metadata": {},
   "outputs": [
    {
     "data": {
      "text/latex": [
       "$\\frac{16 \\pi}{3}$"
      ],
      "text/plain": [
       "16⋅π\n",
       "────\n",
       " 3  "
      ]
     },
     "execution_count": 22,
     "metadata": {},
     "output_type": "execute_result"
    }
   ],
   "source": [
    "using SymPy\n",
    "@syms x y r θ\n",
    "f(x, y) = 2*sqrt(x^2+y^2)\n",
    "# Función en coordenadas polares\n",
    "g(r, θ) = f(r*cos(θ), r*sin(θ))\n",
    "# Límites de integración en r\n",
    "solr = solve(g(r,θ)-4, r)\n",
    "integrate(4 - g(r,θ)*r, (r, 0, solr[2]), (θ, 0, 2PI))"
   ]
  },
  {
   "cell_type": "code",
   "execution_count": 23,
   "id": "cc2388c9",
   "metadata": {},
   "outputs": [
    {
     "data": {
      "text/latex": [
       "$4 \\sqrt{5} \\pi$"
      ],
      "text/plain": [
       "4⋅√5⋅π"
      ]
     },
     "execution_count": 23,
     "metadata": {},
     "output_type": "execute_result"
    }
   ],
   "source": [
    "# Límites de integración en y\n",
    "soly = solve(f(x,y)-4, y)\n",
    "# Límites de integración en x\n",
    "solx = solve(f(x,0)-4)\n",
    "integrate(sqrt(diff(f(x,y), x)^2 + diff(f(x,y), y)^2 +1), (y, soly[1], soly[2]), (x, solx[1], solx[2]))"
   ]
  },
  {
   "cell_type": "code",
   "execution_count": 24,
   "id": "a4857437",
   "metadata": {
    "md-indent": "    "
   },
   "outputs": [
    {
     "data": {
      "text/latex": [
       "$\\frac{460 \\sqrt{15}}{729}$"
      ],
      "text/plain": [
       "460⋅√15\n",
       "───────\n",
       "  729  "
      ]
     },
     "execution_count": 24,
     "metadata": {},
     "output_type": "execute_result"
    }
   ],
   "source": [
    "using SymPy\n",
    "@syms x y\n",
    "d(x,y) = x^2 * y^2\n",
    "g(x) = 2 - x^2\n",
    "h(x) = -3 + 2x^2\n",
    "# Límites de integración en x\n",
    "sol = solve(g(x)-h(x), x)\n",
    "m = integrate(d(x,y), (y, h(x), g(x)), (x, sol[1], sol[2]))"
   ]
  },
  {
   "cell_type": "code",
   "execution_count": 25,
   "id": "bb6044f7",
   "metadata": {
    "md-indent": "    "
   },
   "outputs": [
    {
     "data": {
      "text/latex": [
       "$0$"
      ],
      "text/plain": [
       "0"
      ]
     },
     "execution_count": 25,
     "metadata": {},
     "output_type": "execute_result"
    }
   ],
   "source": [
    "# Momento con respecto a y\n",
    "my = integrate(x*d(x,y), (y, h(x), g(x)), (x, sol[1], sol[2]))\n",
    "# Centro de masas en x.\n",
    "my / m"
   ]
  },
  {
   "cell_type": "code",
   "execution_count": 26,
   "id": "13d35a3e",
   "metadata": {
    "md-indent": "    "
   },
   "outputs": [
    {
     "data": {
      "text/latex": [
       "$- \\frac{4159}{5313}$"
      ],
      "text/plain": [
       "-4159 \n",
       "──────\n",
       " 5313 "
      ]
     },
     "execution_count": 26,
     "metadata": {},
     "output_type": "execute_result"
    }
   ],
   "source": [
    "# Momento con respecto a x\n",
    "mx = integrate(y*d(x,y), (y, h(x), g(x)), (x, sol[1], sol[2]))\n",
    "# Centro de masas en y.\n",
    "mx / m"
   ]
  },
  {
   "cell_type": "code",
   "execution_count": 27,
   "id": "462b128e",
   "metadata": {
    "results": "hidden"
   },
   "outputs": [],
   "source": [
    "#| echo: false\n",
    "#| output: false\n",
    "using QuizQuestions, SymPy\n",
    "nothing"
   ]
  },
  {
   "cell_type": "code",
   "execution_count": 28,
   "id": "9993c1e1",
   "metadata": {},
   "outputs": [
    {
     "data": {
      "text/html": [
       "<script>\n",
       "var ID = \"wnzJEUnX\"\n",
       "</script>\n",
       "<form class=\"mx-2 my-3 mw-100\" name='WeaveQuestion' data-id='wnzJEUnX' data-controltype='' onSubmit='return false;'>\n",
       "  <div class='form-group '>\n",
       "    <div class='controls'>\n",
       "      <div class=\"form\" id=\"controls_wnzJEUnX\" correct='-1' attempts='0'>\n",
       "        <div style=\"padding-top: 5px\">\n",
       "    </br>\n",
       "<div class=\"input-group\" aria-label=\"Input form: Numeric answer\">\n",
       "    <input id=\"wnzJEUnX\" type=\"number\" class=\"form-control\" placeholder=\"Numeric answer\" aria-label=\"Numeric answer\">\n",
       "    <span  class=\"input-group-append\" href=\"#\" title=\"Introducir hasta 5 decimales\">&nbsp;🎁</span>\n",
       "</div>\n",
       "\n",
       "    \n",
       "        </div>\n",
       "      </div>\n",
       "      <div id='wnzJEUnX_message' style=\"padding-bottom: 15px\"></div>\n",
       "    </div>\n",
       "  </div>\n",
       "</form>\n",
       "<script>\n",
       "document.getElementById('controls_wnzJEUnX').addEventListener(\"quizquestion_answer\", (e) => {\n",
       "\t      var o = document.getElementById('controls_wnzJEUnX')\n",
       "\t      var atts = Number(o.getAttribute(\"attempts\"))\n",
       "\t      o.setAttribute(\"correct\",  e.detail.correct);\n",
       "\t      o.setAttribute(\"attempts\", atts + 1)\n",
       "\t  }, true)\n",
       "</script>\n",
       "\n",
       "<script text='text/javascript'>\n",
       "document.getElementById(\"wnzJEUnX\").addEventListener(\"change\", function() {\n",
       "  var correct = (Math.abs(this.value - 32.90525553101446) <= 1.0e-5);\n",
       "  var msgBox = document.getElementById('wnzJEUnX_message');\n",
       "  \n",
       "  if(correct) {\n",
       "    msgBox.innerHTML = \"<div class='pluto-output admonition note alert alert-success'><span> 👍&nbsp; Correct </span></div>\";\n",
       "    var explanation = document.getElementById(\"explanation_wnzJEUnX\")\n",
       "    if (explanation != null) {\n",
       "       explanation.style.display = \"none\";\n",
       "    }\n",
       "      const correct_answer   = new CustomEvent(\"quizquestion_answer\", {bubbles:true, detail:{correct: 1}});\n",
       "  this.dispatchEvent(correct_answer);\n",
       "  //typeof correct_answer   != \"undefined\" && this.dispatchEvent(correct_answer);\n",
       "\n",
       "  } else {\n",
       "    msgBox.innerHTML = \"<div class='pluto-output admonition alert alert-danger'><span>👎&nbsp; Incorrect </span></div>\";\n",
       "    var explanation = document.getElementById(\"explanation_wnzJEUnX\")\n",
       "    if (explanation != null) {\n",
       "       explanation.style.display = \"block\";\n",
       "    }\n",
       "      const incorrect_answer = new CustomEvent(\"quizquestion_answer\", {bubbles:true, detail:{correct: 0}});\n",
       "  this.dispatchEvent(incorrect_answer);\n",
       "  //typeof incorrect_answer != \"undefined\" && this.dispatchEvent(incorrect_answer);\n",
       "\n",
       "  }\n",
       "\n",
       "});\n",
       "\n",
       "</script>\n"
      ],
      "text/latex": [
       "\\vspace{18pt}*Hint: *\n",
       "\n",
       "Introducir hasta 5 decimales\n",
       "\n"
      ],
      "text/plain": [
       "QuizQuestions.Numericq(32.90525553101446, 1.0e-5, \"\", \"\", \"Introducir hasta 5 decimales\", \"\", nothing)"
      ]
     },
     "execution_count": 28,
     "metadata": {},
     "output_type": "execute_result"
    }
   ],
   "source": [
    "#| echo: false\n",
    "using SymPy\n",
    "@syms x, y::real\n",
    "f(x, y) = exp(x^2)\n",
    "sol = N(integrate(f(x,y), (y, -x/2, 1), (x, -2, 2)))\n",
    "numericq(sol, 1e-5, hint=\"Introducir hasta 5 decimales\")"
   ]
  },
  {
   "cell_type": "code",
   "execution_count": 29,
   "id": "3f712c69",
   "metadata": {},
   "outputs": [
    {
     "data": {
      "text/html": [
       "<script>\n",
       "var ID = \"dingdGtT\"\n",
       "</script>\n",
       "<form class=\"mx-2 my-3 mw-100\" name='WeaveQuestion' data-id='dingdGtT' data-controltype='' onSubmit='return false;'>\n",
       "  <div class='form-group '>\n",
       "    <div class='controls'>\n",
       "      <div class=\"form\" id=\"controls_dingdGtT\" correct='-1' attempts='0'>\n",
       "        <div style=\"padding-top: 5px\">\n",
       "    </br>\n",
       "<div class=\"input-group\" aria-label=\"Input form: Numeric answer\">\n",
       "    <input id=\"dingdGtT\" type=\"number\" class=\"form-control\" placeholder=\"Numeric answer\" aria-label=\"Numeric answer\">\n",
       "    <span  class=\"input-group-append\" href=\"#\" title=\"Introducir hasta 5 decimales\">&nbsp;🎁</span>\n",
       "</div>\n",
       "\n",
       "    \n",
       "        </div>\n",
       "      </div>\n",
       "      <div id='dingdGtT_message' style=\"padding-bottom: 15px\"></div>\n",
       "    </div>\n",
       "  </div>\n",
       "</form>\n",
       "<script>\n",
       "document.getElementById('controls_dingdGtT').addEventListener(\"quizquestion_answer\", (e) => {\n",
       "\t      var o = document.getElementById('controls_dingdGtT')\n",
       "\t      var atts = Number(o.getAttribute(\"attempts\"))\n",
       "\t      o.setAttribute(\"correct\",  e.detail.correct);\n",
       "\t      o.setAttribute(\"attempts\", atts + 1)\n",
       "\t  }, true)\n",
       "</script>\n",
       "\n",
       "<script text='text/javascript'>\n",
       "document.getElementById(\"dingdGtT\").addEventListener(\"change\", function() {\n",
       "  var correct = (Math.abs(this.value - 32) <= 1.0e-5);\n",
       "  var msgBox = document.getElementById('dingdGtT_message');\n",
       "  \n",
       "  if(correct) {\n",
       "    msgBox.innerHTML = \"<div class='pluto-output admonition note alert alert-success'><span> 👍&nbsp; Correct </span></div>\";\n",
       "    var explanation = document.getElementById(\"explanation_dingdGtT\")\n",
       "    if (explanation != null) {\n",
       "       explanation.style.display = \"none\";\n",
       "    }\n",
       "      const correct_answer   = new CustomEvent(\"quizquestion_answer\", {bubbles:true, detail:{correct: 1}});\n",
       "  this.dispatchEvent(correct_answer);\n",
       "  //typeof correct_answer   != \"undefined\" && this.dispatchEvent(correct_answer);\n",
       "\n",
       "  } else {\n",
       "    msgBox.innerHTML = \"<div class='pluto-output admonition alert alert-danger'><span>👎&nbsp; Incorrect </span></div>\";\n",
       "    var explanation = document.getElementById(\"explanation_dingdGtT\")\n",
       "    if (explanation != null) {\n",
       "       explanation.style.display = \"block\";\n",
       "    }\n",
       "      const incorrect_answer = new CustomEvent(\"quizquestion_answer\", {bubbles:true, detail:{correct: 0}});\n",
       "  this.dispatchEvent(incorrect_answer);\n",
       "  //typeof incorrect_answer != \"undefined\" && this.dispatchEvent(incorrect_answer);\n",
       "\n",
       "  }\n",
       "\n",
       "});\n",
       "\n",
       "</script>\n"
      ],
      "text/latex": [
       "\\vspace{18pt}*Hint: *\n",
       "\n",
       "Introducir hasta 5 decimales\n",
       "\n"
      ],
      "text/plain": [
       "QuizQuestions.Numericq(32, 1.0e-5, \"\", \"\", \"Introducir hasta 5 decimales\", \"\", nothing)"
      ]
     },
     "execution_count": 29,
     "metadata": {},
     "output_type": "execute_result"
    }
   ],
   "source": [
    "#| echo: false\n",
    "using SymPy\n",
    "@syms x, y, z::real\n",
    "solz = solve(z^2-4+x, z)\n",
    "soly = solve(y^2-4+x, y)\n",
    "solx = solve(-4+x)\n",
    "sol = N(integrate(solz[2]-solz[1], (y, soly[1], soly[2]), (x, 0, solx[1])))\n",
    "numericq(sol, 1e-5, hint=\"Introducir hasta 5 decimales\")"
   ]
  },
  {
   "cell_type": "code",
   "execution_count": 30,
   "id": "6b712f33",
   "metadata": {},
   "outputs": [
    {
     "data": {
      "text/html": [
       "<script>\n",
       "var ID = \"3SjEQPee\"\n",
       "</script>\n",
       "<form class=\"mx-2 my-3 mw-100\" name='WeaveQuestion' data-id='3SjEQPee' data-controltype='' onSubmit='return false;'>\n",
       "  <div class='form-group '>\n",
       "    <div class='controls'>\n",
       "      <div class=\"form\" id=\"controls_3SjEQPee\" correct='-1' attempts='0'>\n",
       "        <div style=\"padding-top: 5px\">\n",
       "    </br>\n",
       "<div class=\"input-group\" aria-label=\"Input form: Numeric answer\">\n",
       "    <input id=\"3SjEQPee\" type=\"number\" class=\"form-control\" placeholder=\"Numeric answer\" aria-label=\"Numeric answer\">\n",
       "    <span  class=\"input-group-append\" href=\"#\" title=\"Introducir hasta 5 decimales\">&nbsp;🎁</span>\n",
       "</div>\n",
       "\n",
       "    \n",
       "        </div>\n",
       "      </div>\n",
       "      <div id='3SjEQPee_message' style=\"padding-bottom: 15px\"></div>\n",
       "    </div>\n",
       "  </div>\n",
       "</form>\n",
       "<script>\n",
       "document.getElementById('controls_3SjEQPee').addEventListener(\"quizquestion_answer\", (e) => {\n",
       "\t      var o = document.getElementById('controls_3SjEQPee')\n",
       "\t      var atts = Number(o.getAttribute(\"attempts\"))\n",
       "\t      o.setAttribute(\"correct\",  e.detail.correct);\n",
       "\t      o.setAttribute(\"attempts\", atts + 1)\n",
       "\t  }, true)\n",
       "</script>\n",
       "\n",
       "<script text='text/javascript'>\n",
       "document.getElementById(\"3SjEQPee\").addEventListener(\"change\", function() {\n",
       "  var correct = (Math.abs(this.value - 3.42958314) <= 1.0e-5);\n",
       "  var msgBox = document.getElementById('3SjEQPee_message');\n",
       "  \n",
       "  if(correct) {\n",
       "    msgBox.innerHTML = \"<div class='pluto-output admonition note alert alert-success'><span> 👍&nbsp; Correct </span></div>\";\n",
       "    var explanation = document.getElementById(\"explanation_3SjEQPee\")\n",
       "    if (explanation != null) {\n",
       "       explanation.style.display = \"none\";\n",
       "    }\n",
       "      const correct_answer   = new CustomEvent(\"quizquestion_answer\", {bubbles:true, detail:{correct: 1}});\n",
       "  this.dispatchEvent(correct_answer);\n",
       "  //typeof correct_answer   != \"undefined\" && this.dispatchEvent(correct_answer);\n",
       "\n",
       "  } else {\n",
       "    msgBox.innerHTML = \"<div class='pluto-output admonition alert alert-danger'><span>👎&nbsp; Incorrect </span></div>\";\n",
       "    var explanation = document.getElementById(\"explanation_3SjEQPee\")\n",
       "    if (explanation != null) {\n",
       "       explanation.style.display = \"block\";\n",
       "    }\n",
       "      const incorrect_answer = new CustomEvent(\"quizquestion_answer\", {bubbles:true, detail:{correct: 0}});\n",
       "  this.dispatchEvent(incorrect_answer);\n",
       "  //typeof incorrect_answer != \"undefined\" && this.dispatchEvent(incorrect_answer);\n",
       "\n",
       "  }\n",
       "\n",
       "});\n",
       "\n",
       "</script>\n"
      ],
      "text/latex": [
       "\\vspace{18pt}*Hint: *\n",
       "\n",
       "Introducir hasta 5 decimales\n",
       "\n"
      ],
      "text/plain": [
       "QuizQuestions.Numericq(3.42958314, 1.0e-5, \"\", \"\", \"Introducir hasta 5 decimales\", \"\", nothing)"
      ]
     },
     "execution_count": 30,
     "metadata": {},
     "output_type": "execute_result"
    }
   ],
   "source": [
    "#| echo: false\n",
    "using HCubature\n",
    "f(x, y) = x^2+y^2 <= 1 ? log(cos(x*y)+2) : 0\n",
    "f(v) = f(v...)\n",
    "#sol = hcubature(f, [-1,-1], [1, 1])\n",
    "numericq(3.42958314, 1e-5, hint=\"Introducir hasta 5 decimales\")"
   ]
  },
  {
   "cell_type": "code",
   "execution_count": 31,
   "id": "3bdefedb",
   "metadata": {},
   "outputs": [
    {
     "data": {
      "text/html": [
       "<script>\n",
       "var ID = \"oOBHmjos\"\n",
       "</script>\n",
       "<form class=\"mx-2 my-3 mw-100\" name='WeaveQuestion' data-id='oOBHmjos' data-controltype='' onSubmit='return false;'>\n",
       "  <div class='form-group '>\n",
       "    <div class='controls'>\n",
       "      <div class=\"form\" id=\"controls_oOBHmjos\" correct='-1' attempts='0'>\n",
       "        <div style=\"padding-top: 5px\">\n",
       "    </br>\n",
       "<div class=\"input-group\" aria-label=\"Input form: Numeric answer\">\n",
       "    <input id=\"oOBHmjos\" type=\"number\" class=\"form-control\" placeholder=\"Numeric answer\" aria-label=\"Numeric answer\">\n",
       "    <span  class=\"input-group-append\" href=\"#\" title=\"Introducir hasta 5 decimales\">&nbsp;🎁</span>\n",
       "</div>\n",
       "\n",
       "    \n",
       "        </div>\n",
       "      </div>\n",
       "      <div id='oOBHmjos_message' style=\"padding-bottom: 15px\"></div>\n",
       "    </div>\n",
       "  </div>\n",
       "</form>\n",
       "<script>\n",
       "document.getElementById('controls_oOBHmjos').addEventListener(\"quizquestion_answer\", (e) => {\n",
       "\t      var o = document.getElementById('controls_oOBHmjos')\n",
       "\t      var atts = Number(o.getAttribute(\"attempts\"))\n",
       "\t      o.setAttribute(\"correct\",  e.detail.correct);\n",
       "\t      o.setAttribute(\"attempts\", atts + 1)\n",
       "\t  }, true)\n",
       "</script>\n",
       "\n",
       "<script text='text/javascript'>\n",
       "document.getElementById(\"oOBHmjos\").addEventListener(\"change\", function() {\n",
       "  var correct = (Math.abs(this.value - 1.2823707050179478) <= 1.0e-5);\n",
       "  var msgBox = document.getElementById('oOBHmjos_message');\n",
       "  \n",
       "  if(correct) {\n",
       "    msgBox.innerHTML = \"<div class='pluto-output admonition note alert alert-success'><span> 👍&nbsp; Correct </span></div>\";\n",
       "    var explanation = document.getElementById(\"explanation_oOBHmjos\")\n",
       "    if (explanation != null) {\n",
       "       explanation.style.display = \"none\";\n",
       "    }\n",
       "      const correct_answer   = new CustomEvent(\"quizquestion_answer\", {bubbles:true, detail:{correct: 1}});\n",
       "  this.dispatchEvent(correct_answer);\n",
       "  //typeof correct_answer   != \"undefined\" && this.dispatchEvent(correct_answer);\n",
       "\n",
       "  } else {\n",
       "    msgBox.innerHTML = \"<div class='pluto-output admonition alert alert-danger'><span>👎&nbsp; Incorrect </span></div>\";\n",
       "    var explanation = document.getElementById(\"explanation_oOBHmjos\")\n",
       "    if (explanation != null) {\n",
       "       explanation.style.display = \"block\";\n",
       "    }\n",
       "      const incorrect_answer = new CustomEvent(\"quizquestion_answer\", {bubbles:true, detail:{correct: 0}});\n",
       "  this.dispatchEvent(incorrect_answer);\n",
       "  //typeof incorrect_answer != \"undefined\" && this.dispatchEvent(incorrect_answer);\n",
       "\n",
       "  }\n",
       "\n",
       "});\n",
       "\n",
       "</script>\n"
      ],
      "text/latex": [
       "\\vspace{18pt}*Hint: *\n",
       "\n",
       "Introducir hasta 5 decimales\n",
       "\n"
      ],
      "text/plain": [
       "QuizQuestions.Numericq(1.2823707050179478, 1.0e-5, \"\", \"\", \"Introducir hasta 5 decimales\", \"\", nothing)"
      ]
     },
     "execution_count": 31,
     "metadata": {},
     "output_type": "execute_result"
    }
   ],
   "source": [
    "#| echo: false\n",
    "using SymPy, HCubature\n",
    "@syms x y\n",
    "f(x, y) = sqrt(x+y)\n",
    "#sol = N(integrate(sqrt(diff(f(x,y), x)^2 + diff(f(x,y), y)^2 +1), (x, 0, 1), (y, 0, 1)))\n",
    "numericq(1.2823707050179478, 1e-5, hint=\"Introducir hasta 5 decimales\")"
   ]
  },
  {
   "cell_type": "code",
   "execution_count": 32,
   "id": "93fb3a08",
   "metadata": {},
   "outputs": [
    {
     "data": {
      "text/html": [
       "<script>\n",
       "var ID = \"8Bq5TL3d\"\n",
       "</script>\n",
       "<form class=\"mx-2 my-3 mw-100\" name='WeaveQuestion' data-id='8Bq5TL3d' data-controltype='' onSubmit='return false;'>\n",
       "  <div class='form-group '>\n",
       "    <div class='controls'>\n",
       "      <div class=\"form\" id=\"controls_8Bq5TL3d\" correct='-1' attempts='0'>\n",
       "        <div style=\"padding-top: 5px\">\n",
       "    </br>\n",
       "<div class=\"input-group\" aria-label=\"Input form: Numeric answer\">\n",
       "    <input id=\"8Bq5TL3d\" type=\"number\" class=\"form-control\" placeholder=\"Numeric answer\" aria-label=\"Numeric answer\">\n",
       "    <span  class=\"input-group-append\" href=\"#\" title=\"Introducir hasta 5 decimales\">&nbsp;🎁</span>\n",
       "</div>\n",
       "\n",
       "    \n",
       "        </div>\n",
       "      </div>\n",
       "      <div id='8Bq5TL3d_message' style=\"padding-bottom: 15px\"></div>\n",
       "    </div>\n",
       "  </div>\n",
       "</form>\n",
       "<script>\n",
       "document.getElementById('controls_8Bq5TL3d').addEventListener(\"quizquestion_answer\", (e) => {\n",
       "\t      var o = document.getElementById('controls_8Bq5TL3d')\n",
       "\t      var atts = Number(o.getAttribute(\"attempts\"))\n",
       "\t      o.setAttribute(\"correct\",  e.detail.correct);\n",
       "\t      o.setAttribute(\"attempts\", atts + 1)\n",
       "\t  }, true)\n",
       "</script>\n",
       "\n",
       "<script text='text/javascript'>\n",
       "document.getElementById(\"8Bq5TL3d\").addEventListener(\"change\", function() {\n",
       "  var correct = (Math.abs(this.value - 0.5313566449) <= 1.0e-5);\n",
       "  var msgBox = document.getElementById('8Bq5TL3d_message');\n",
       "  \n",
       "  if(correct) {\n",
       "    msgBox.innerHTML = \"<div class='pluto-output admonition note alert alert-success'><span> 👍&nbsp; Correct </span></div>\";\n",
       "    var explanation = document.getElementById(\"explanation_8Bq5TL3d\")\n",
       "    if (explanation != null) {\n",
       "       explanation.style.display = \"none\";\n",
       "    }\n",
       "      const correct_answer   = new CustomEvent(\"quizquestion_answer\", {bubbles:true, detail:{correct: 1}});\n",
       "  this.dispatchEvent(correct_answer);\n",
       "  //typeof correct_answer   != \"undefined\" && this.dispatchEvent(correct_answer);\n",
       "\n",
       "  } else {\n",
       "    msgBox.innerHTML = \"<div class='pluto-output admonition alert alert-danger'><span>👎&nbsp; Incorrect </span></div>\";\n",
       "    var explanation = document.getElementById(\"explanation_8Bq5TL3d\")\n",
       "    if (explanation != null) {\n",
       "       explanation.style.display = \"block\";\n",
       "    }\n",
       "      const incorrect_answer = new CustomEvent(\"quizquestion_answer\", {bubbles:true, detail:{correct: 0}});\n",
       "  this.dispatchEvent(incorrect_answer);\n",
       "  //typeof incorrect_answer != \"undefined\" && this.dispatchEvent(incorrect_answer);\n",
       "\n",
       "  }\n",
       "\n",
       "});\n",
       "\n",
       "</script>\n"
      ],
      "text/latex": [
       "\\vspace{18pt}*Hint: *\n",
       "\n",
       "Introducir hasta 5 decimales\n",
       "\n"
      ],
      "text/plain": [
       "QuizQuestions.Numericq(0.5313566449, 1.0e-5, \"\", \"\", \"Introducir hasta 5 decimales\", \"\", nothing)"
      ]
     },
     "execution_count": 32,
     "metadata": {},
     "output_type": "execute_result"
    }
   ],
   "source": [
    "#| echo: false\n",
    "# using SymPy\n",
    "# @syms x y\n",
    "# f(x, y) = ln(x+2y+1)\n",
    "# m = integrate(f(x,y), (y, x^2, sqrt(x)), (x, 0, 1))\n",
    "# my = integrate(x * f(x,y), (y, x^2, sqrt(x)), (x, 0, 1))\n",
    "# sol = N(my / m)\n",
    "numericq(0.5313566449, 1e-5, hint=\"Introducir hasta 5 decimales\")"
   ]
  },
  {
   "cell_type": "code",
   "execution_count": 33,
   "id": "b40608b0",
   "metadata": {},
   "outputs": [
    {
     "data": {
      "text/html": [
       "<script>\n",
       "var ID = \"skFXplwm\"\n",
       "</script>\n",
       "<form class=\"mx-2 my-3 mw-100\" name='WeaveQuestion' data-id='skFXplwm' data-controltype='' onSubmit='return false;'>\n",
       "  <div class='form-group '>\n",
       "    <div class='controls'>\n",
       "      <div class=\"form\" id=\"controls_skFXplwm\" correct='-1' attempts='0'>\n",
       "        <div style=\"padding-top: 5px\">\n",
       "    </br>\n",
       "<div class=\"input-group\" aria-label=\"Input form: Numeric answer\">\n",
       "    <input id=\"skFXplwm\" type=\"number\" class=\"form-control\" placeholder=\"Numeric answer\" aria-label=\"Numeric answer\">\n",
       "    <span  class=\"input-group-append\" href=\"#\" title=\"Introducir hasta 5 decimales\">&nbsp;🎁</span>\n",
       "</div>\n",
       "\n",
       "    \n",
       "        </div>\n",
       "      </div>\n",
       "      <div id='skFXplwm_message' style=\"padding-bottom: 15px\"></div>\n",
       "    </div>\n",
       "  </div>\n",
       "</form>\n",
       "<script>\n",
       "document.getElementById('controls_skFXplwm').addEventListener(\"quizquestion_answer\", (e) => {\n",
       "\t      var o = document.getElementById('controls_skFXplwm')\n",
       "\t      var atts = Number(o.getAttribute(\"attempts\"))\n",
       "\t      o.setAttribute(\"correct\",  e.detail.correct);\n",
       "\t      o.setAttribute(\"attempts\", atts + 1)\n",
       "\t  }, true)\n",
       "</script>\n",
       "\n",
       "<script text='text/javascript'>\n",
       "document.getElementById(\"skFXplwm\").addEventListener(\"change\", function() {\n",
       "  var correct = (Math.abs(this.value - 0.5354903136) <= 1.0e-5);\n",
       "  var msgBox = document.getElementById('skFXplwm_message');\n",
       "  \n",
       "  if(correct) {\n",
       "    msgBox.innerHTML = \"<div class='pluto-output admonition note alert alert-success'><span> 👍&nbsp; Correct </span></div>\";\n",
       "    var explanation = document.getElementById(\"explanation_skFXplwm\")\n",
       "    if (explanation != null) {\n",
       "       explanation.style.display = \"none\";\n",
       "    }\n",
       "      const correct_answer   = new CustomEvent(\"quizquestion_answer\", {bubbles:true, detail:{correct: 1}});\n",
       "  this.dispatchEvent(correct_answer);\n",
       "  //typeof correct_answer   != \"undefined\" && this.dispatchEvent(correct_answer);\n",
       "\n",
       "  } else {\n",
       "    msgBox.innerHTML = \"<div class='pluto-output admonition alert alert-danger'><span>👎&nbsp; Incorrect </span></div>\";\n",
       "    var explanation = document.getElementById(\"explanation_skFXplwm\")\n",
       "    if (explanation != null) {\n",
       "       explanation.style.display = \"block\";\n",
       "    }\n",
       "      const incorrect_answer = new CustomEvent(\"quizquestion_answer\", {bubbles:true, detail:{correct: 0}});\n",
       "  this.dispatchEvent(incorrect_answer);\n",
       "  //typeof incorrect_answer != \"undefined\" && this.dispatchEvent(incorrect_answer);\n",
       "\n",
       "  }\n",
       "\n",
       "});\n",
       "\n",
       "</script>\n"
      ],
      "text/latex": [
       "\\vspace{18pt}*Hint: *\n",
       "\n",
       "Introducir hasta 5 decimales\n",
       "\n"
      ],
      "text/plain": [
       "QuizQuestions.Numericq(0.5354903136, 1.0e-5, \"\", \"\", \"Introducir hasta 5 decimales\", \"\", nothing)"
      ]
     },
     "execution_count": 33,
     "metadata": {},
     "output_type": "execute_result"
    }
   ],
   "source": [
    "#| echo: false\n",
    "# mx = integrate(y * f(x,y), (y, x^2, sqrt(x)), (x, 0, 1))\n",
    "# sol = N(mx / m)\n",
    "numericq(0.5354903136, 1e-5, hint=\"Introducir hasta 5 decimales\")"
   ]
  }
 ],
 "metadata": {
  "kernelspec": {
   "display_name": "Julia 1.11.1",
   "language": "julia",
   "name": "julia-1.11"
  },
  "language_info": {
   "file_extension": ".jl",
   "mimetype": "application/julia",
   "name": "julia",
   "version": "1.11.1"
  }
 },
 "nbformat": 4,
 "nbformat_minor": 5
}