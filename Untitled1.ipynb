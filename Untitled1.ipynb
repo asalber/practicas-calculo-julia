{
 "cells": [
  {
   "cell_type": "code",
   "execution_count": null,
   "id": "3f978b21-f0c5-414e-a81f-2d232ae24b66",
   "metadata": {},
   "outputs": [],
   "source": []
  }
 ],
 "metadata": {
  "kernelspec": {
   "display_name": "",
   "name": ""
  },
  "language_info": {
   "name": ""
  }
 },
 "nbformat": 4,
 "nbformat_minor": 5
}
